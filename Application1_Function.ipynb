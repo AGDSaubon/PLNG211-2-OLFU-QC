{
  "nbformat": 4,
  "nbformat_minor": 0,
  "metadata": {
    "colab": {
      "provenance": [],
      "authorship_tag": "ABX9TyPiUqlyTZHUTOmE7PG1wP0I",
      "include_colab_link": true
    },
    "kernelspec": {
      "name": "python3",
      "display_name": "Python 3"
    },
    "language_info": {
      "name": "python"
    }
  },
  "cells": [
    {
      "cell_type": "markdown",
      "metadata": {
        "id": "view-in-github",
        "colab_type": "text"
      },
      "source": [
        "<a href=\"https://colab.research.google.com/github/AGDSaubon/PLNG211-2-OLFU-QC/blob/main/Application1_Function.ipynb\" target=\"_parent\"><img src=\"https://colab.research.google.com/assets/colab-badge.svg\" alt=\"Open In Colab\"/></a>"
      ]
    },
    {
      "cell_type": "code",
      "source": [
        "#Application 1 - Write a Python program that computes the area and perimeter of a square\n",
        "#Use Square as class name\n",
        "#Use sides as attributes\n",
        "#Create methods Area() and Perimeter()\n",
        "\n",
        "class Square:\n",
        "  pass\n",
        "\n",
        "  def __init__(side,area,per):\n",
        "    side.area = pow(area,2)\n",
        "    side.per = per*4\n",
        "    \n",
        "  def Area(side):\n",
        "    print(\"The Area of the Square:\",side.area)\n",
        "\n",
        "  def Perimeter(side):\n",
        "    print(\"The Perimeter of the Square:\",side.per)\n",
        "  \n",
        "\n",
        "p1 = Square(6,6)\n",
        "p1.Area()\n",
        "p1.Perimeter()"
      ],
      "metadata": {
        "colab": {
          "base_uri": "https://localhost:8080/"
        },
        "id": "GrhhcGNp-x5O",
        "outputId": "42b647b6-a22c-4e39-90bb-0069407a2bc8"
      },
      "execution_count": 62,
      "outputs": [
        {
          "output_type": "stream",
          "name": "stdout",
          "text": [
            "The Area of the Square: 36\n",
            "The Perimeter of the Square: 24\n"
          ]
        }
      ]
    },
    {
      "cell_type": "code",
      "source": [
        "class Person:\n",
        "  def __init__(self, name, age, address):\n",
        "    self.name = name\n",
        "    self.age = age\n",
        "    self.address = address\n",
        "  \n",
        "  def myFunction(self):\n",
        "    print(\"I am\", self.name)\n",
        "    print(\"I am\", self.age)\n",
        "    print(\"I am\", self.address)\n",
        "\n",
        "class Student(Person):\n",
        "  pass\n",
        "\n",
        "class Teacher(Person):\n",
        "  pass\n",
        "\n",
        "p1 = Person(\"Maria\", 20, \"QC\\n\")\n",
        "p1. myFunction()\n",
        "\n",
        "p2 = Student(\"Ana\", 26, \"Manila\\n\")\n",
        "p2. myFunction()\n",
        "\n",
        "p3 = Teacher(\"Mam\", 30, \"Valenzuela\\n\")\n",
        "p3. myFunction()"
      ],
      "metadata": {
        "colab": {
          "base_uri": "https://localhost:8080/"
        },
        "id": "RdD91YfTDE2L",
        "outputId": "738a952c-9069-4de9-c69b-79f3eb208d2d"
      },
      "execution_count": null,
      "outputs": [
        {
          "output_type": "stream",
          "name": "stdout",
          "text": [
            "I am Maria\n",
            "I am 20\n",
            "I am QC\n",
            "\n",
            "I am Ana\n",
            "I am 26\n",
            "I am Manila\n",
            "\n",
            "I am Mam\n",
            "I am 30\n",
            "I am Valenzuela\n",
            "\n"
          ]
        }
      ]
    }
  ]
}