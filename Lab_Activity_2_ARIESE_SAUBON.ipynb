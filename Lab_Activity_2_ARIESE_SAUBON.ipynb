{
  "nbformat": 4,
  "nbformat_minor": 0,
  "metadata": {
    "colab": {
      "provenance": [],
      "authorship_tag": "ABX9TyNcEHkA0eYdzRB9rHayTwEi",
      "include_colab_link": true
    },
    "kernelspec": {
      "name": "python3",
      "display_name": "Python 3"
    },
    "language_info": {
      "name": "python"
    }
  },
  "cells": [
    {
      "cell_type": "markdown",
      "metadata": {
        "id": "view-in-github",
        "colab_type": "text"
      },
      "source": [
        "<a href=\"https://colab.research.google.com/github/AGDSaubon/PLNG211-2-OLFU-QC/blob/main/Lab_Activity_2_ARIESE_SAUBON.ipynb\" target=\"_parent\"><img src=\"https://colab.research.google.com/assets/colab-badge.svg\" alt=\"Open In Colab\"/></a>"
      ]
    },
    {
      "cell_type": "code",
      "execution_count": 3,
      "metadata": {
        "colab": {
          "base_uri": "https://localhost:8080/"
        },
        "id": "55cYOXf3Kb0D",
        "outputId": "c5480bd1-c849-4457-f737-c4db32045081"
      },
      "outputs": [
        {
          "output_type": "stream",
          "name": "stdout",
          "text": [
            "I am Ariese Gillian Dionsio Saubon\n",
            "My student number is 20004972\n",
            "I am 22\n",
            "I study at OLFU QC\n",
            "My course is Computer Science\n"
          ]
        }
      ],
      "source": [
        "class Student():\n",
        "  pass\n",
        "\n",
        "  def __init__(self, name, student_no, age, school, course):\n",
        "    self.name = name\n",
        "    self.student_no = student_no\n",
        "    self.age = age\n",
        "    self.school = school\n",
        "    self.course = course\n",
        "  \n",
        "  def Info(self):\n",
        "    print(\"I am\", self.name)\n",
        "    print(\"My student number is\", self.student_no)\n",
        "    print(\"I am\", self.age)\n",
        "    print(\"I study at\", self.school)\n",
        "    print(\"My course is\", self.course)\n",
        "\n",
        "\n",
        "\n",
        "Myself = Student(\"Ariese Gillian Dionsio Saubon\", 20004972, 22, \"OLFU QC\", \"Computer Science\")\n",
        "Myself.Info()\n",
        "\n"
      ]
    }
  ]
}