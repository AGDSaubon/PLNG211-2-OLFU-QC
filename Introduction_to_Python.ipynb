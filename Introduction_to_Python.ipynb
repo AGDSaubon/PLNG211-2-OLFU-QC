{
  "nbformat": 4,
  "nbformat_minor": 0,
  "metadata": {
    "colab": {
      "provenance": [],
      "authorship_tag": "ABX9TyPCuOiTSAUlvqIaTuOYxAbp",
      "include_colab_link": true
    },
    "kernelspec": {
      "name": "python3",
      "display_name": "Python 3"
    },
    "language_info": {
      "name": "python"
    }
  },
  "cells": [
    {
      "cell_type": "markdown",
      "metadata": {
        "id": "view-in-github",
        "colab_type": "text"
      },
      "source": [
        "<a href=\"https://colab.research.google.com/github/AGDSaubon/PLNG211-2-OLFU-QC/blob/main/Introduction_to_Python.ipynb\" target=\"_parent\"><img src=\"https://colab.research.google.com/assets/colab-badge.svg\" alt=\"Open In Colab\"/></a>"
      ]
    },
    {
      "cell_type": "markdown",
      "source": [
        "**Comment**"
      ],
      "metadata": {
        "id": "qgQgUYBx0Vmo"
      }
    },
    {
      "cell_type": "code",
      "source": [
        "#This is a comment\n"
      ],
      "metadata": {
        "id": "vTZFcGU20X_p"
      },
      "execution_count": 14,
      "outputs": []
    },
    {
      "cell_type": "markdown",
      "source": [
        "**Python Variables**"
      ],
      "metadata": {
        "id": "hbwK-pla0fpo"
      }
    },
    {
      "cell_type": "code",
      "source": [
        "a = float(8)\n",
        "c = \"Ela\""
      ],
      "metadata": {
        "id": "QazcVh1a-ZYd"
      },
      "execution_count": null,
      "outputs": []
    },
    {
      "cell_type": "markdown",
      "source": [
        "**Type () function**"
      ],
      "metadata": {
        "id": "rEWa4H3t0lqZ"
      }
    },
    {
      "cell_type": "code",
      "source": [
        "print(type(c))\n",
        "print(a)\n"
      ],
      "metadata": {
        "colab": {
          "base_uri": "https://localhost:8080/"
        },
        "id": "oc00MSA8_klh",
        "outputId": "baba84c2-2342-400c-ead5-4873e17a0b79"
      },
      "execution_count": null,
      "outputs": [
        {
          "output_type": "stream",
          "name": "stdout",
          "text": [
            "<class 'str'>\n",
            "8.0\n"
          ]
        }
      ]
    },
    {
      "cell_type": "markdown",
      "source": [
        "**if Statements/Proper Indentation**"
      ],
      "metadata": {
        "id": "Lyc3IfqL0qlJ"
      }
    },
    {
      "cell_type": "code",
      "execution_count": null,
      "metadata": {
        "colab": {
          "base_uri": "https://localhost:8080/"
        },
        "id": "_A8q3H567wBQ",
        "outputId": "7f382176-2806-46ba-b079-15faac1dd560"
      },
      "outputs": [
        {
          "output_type": "stream",
          "name": "stdout",
          "text": [
            "b is greater than a\n"
          ]
        }
      ],
      "source": [
        "a = 33\n",
        "b = 200\n",
        "if b > a:\n",
        "  print(\"b is greater than a\")"
      ]
    },
    {
      "cell_type": "markdown",
      "source": [
        "**Single/Double Qoute**"
      ],
      "metadata": {
        "id": "0kbPF-M11AC0"
      }
    },
    {
      "cell_type": "code",
      "source": [
        "age = 18\n",
        "if age < 21:\n",
        "  print(\"Sorry, you have to be over 21 years old to enter\")"
      ],
      "metadata": {
        "id": "3Td645rvz2TL",
        "colab": {
          "base_uri": "https://localhost:8080/"
        },
        "outputId": "6dc928cb-36b2-4312-f091-694c7d4eeb85"
      },
      "execution_count": 15,
      "outputs": [
        {
          "output_type": "stream",
          "name": "stdout",
          "text": [
            "Sorry, you have to be over 21 years old to enter\n"
          ]
        }
      ]
    },
    {
      "cell_type": "markdown",
      "source": [
        "**Multiple Variables**\n"
      ],
      "metadata": {
        "id": "W7OzmTkK1JYW"
      }
    },
    {
      "cell_type": "code",
      "source": [
        "x,y,z = 21,19,24\n",
        "\n",
        "print(x)\n",
        "print(y)\n",
        "print(z)"
      ],
      "metadata": {
        "colab": {
          "base_uri": "https://localhost:8080/"
        },
        "id": "L8YV1N6z1JD2",
        "outputId": "7eb1b4fd-a52b-45bf-a489-3a47bbfb306c"
      },
      "execution_count": 16,
      "outputs": [
        {
          "output_type": "stream",
          "name": "stdout",
          "text": [
            "21\n",
            "19\n",
            "24\n"
          ]
        }
      ]
    },
    {
      "cell_type": "markdown",
      "source": [
        "**Single Values to Multiple Variables**"
      ],
      "metadata": {
        "id": "wc2ZjmSz1avT"
      }
    },
    {
      "cell_type": "code",
      "source": [
        "x=y=z=\"Hi this sentence repeats\"\n",
        "print(x)\n",
        "print(y)\n",
        "print(z)"
      ],
      "metadata": {
        "colab": {
          "base_uri": "https://localhost:8080/"
        },
        "id": "aWVaq39L1cY4",
        "outputId": "e1632ad0-181f-424a-d409-84927291b689"
      },
      "execution_count": 17,
      "outputs": [
        {
          "output_type": "stream",
          "name": "stdout",
          "text": [
            "Hi this sentence repeats\n",
            "Hi this sentence repeats\n",
            "Hi this sentence repeats\n"
          ]
        }
      ]
    },
    {
      "cell_type": "markdown",
      "source": [
        "**Output Variables**\n",
        "\n"
      ],
      "metadata": {
        "id": "qCEerijZ1mfp"
      }
    },
    {
      "cell_type": "code",
      "source": [
        "firstName = \"Ariese\"\n",
        "lastName = 'Saubon'\n",
        "print(\"Your name is \" + firstName + lastName)\n"
      ],
      "metadata": {
        "colab": {
          "base_uri": "https://localhost:8080/"
        },
        "id": "ab4nkpHxzOaG",
        "outputId": "247155f4-f075-4659-ac7e-ad3a3d50506b"
      },
      "execution_count": 11,
      "outputs": [
        {
          "output_type": "stream",
          "name": "stdout",
          "text": [
            "Your name is ArieseSaubon\n"
          ]
        }
      ]
    },
    {
      "cell_type": "markdown",
      "source": [
        "**Arithmetic Operations**"
      ],
      "metadata": {
        "id": "I3e43f7_1sNy"
      }
    },
    {
      "cell_type": "code",
      "source": [
        "firstQues = \"What is the remainder when 7 is divided by 2?\"\n",
        "print(firstQues)\n",
        "a = 7%2\n",
        "print(a)\n",
        "\n",
        "secondQues = \"\\nWhat is the square root of 81?\"\n",
        "print(secondQues)\n",
        "sqRoot = 81//2\n",
        "print(sqRoot)\n",
        "\n",
        "thirdQues = \"\\nWhat is the square of 7?\"\n",
        "print(thirdQues)\n",
        "c = 7\n",
        "print(c**2)"
      ],
      "metadata": {
        "colab": {
          "base_uri": "https://localhost:8080/"
        },
        "id": "LylZBNLv1vRb",
        "outputId": "8380e96c-c30e-4686-a7c6-16cd98fb747d"
      },
      "execution_count": 22,
      "outputs": [
        {
          "output_type": "stream",
          "name": "stdout",
          "text": [
            "What is the remainder when 7 is divided by 2?\n",
            "1\n",
            "\n",
            "What is the square root of 81?\n",
            "40\n",
            "\n",
            "What is the square of 7?\n",
            "49\n"
          ]
        }
      ]
    },
    {
      "cell_type": "markdown",
      "source": [
        "**Assignment Operators**"
      ],
      "metadata": {
        "id": "nl2GlrTJ3ui9"
      }
    },
    {
      "cell_type": "code",
      "source": [
        "c = 21\n",
        "c+=3    \n",
        "print(c)"
      ],
      "metadata": {
        "colab": {
          "base_uri": "https://localhost:8080/"
        },
        "id": "LoMTnMcH3vqt",
        "outputId": "9e2578f7-a331-4efb-8236-44e2059a5566"
      },
      "execution_count": 23,
      "outputs": [
        {
          "output_type": "stream",
          "name": "stdout",
          "text": [
            "24\n"
          ]
        }
      ]
    },
    {
      "cell_type": "markdown",
      "source": [
        "**Comparison Operators**"
      ],
      "metadata": {
        "id": "1zy5ffL63212"
      }
    },
    {
      "cell_type": "code",
      "source": [
        "i=5>2   #True\n",
        "h = 3>5 #False\n",
        "print(i)\n",
        "print(h)\n",
        "\n",
        "not(i or h)"
      ],
      "metadata": {
        "colab": {
          "base_uri": "https://localhost:8080/"
        },
        "id": "HQBO-J_q331W",
        "outputId": "0224aac2-43e3-400f-a742-345d9caf943b"
      },
      "execution_count": 24,
      "outputs": [
        {
          "output_type": "stream",
          "name": "stdout",
          "text": [
            "True\n",
            "False\n"
          ]
        },
        {
          "output_type": "execute_result",
          "data": {
            "text/plain": [
              "False"
            ]
          },
          "metadata": {},
          "execution_count": 24
        }
      ]
    },
    {
      "cell_type": "markdown",
      "source": [
        "**Identity Operators**"
      ],
      "metadata": {
        "id": "Mj0LERlK3-i5"
      }
    },
    {
      "cell_type": "code",
      "source": [
        "i is not h"
      ],
      "metadata": {
        "colab": {
          "base_uri": "https://localhost:8080/"
        },
        "id": "u9ujtBPx3_m_",
        "outputId": "c575b233-0107-4703-8ed1-644cd3890606"
      },
      "execution_count": 25,
      "outputs": [
        {
          "output_type": "execute_result",
          "data": {
            "text/plain": [
              "True"
            ]
          },
          "metadata": {},
          "execution_count": 25
        }
      ]
    },
    {
      "cell_type": "markdown",
      "source": [
        "**Bitwise Operators**"
      ],
      "metadata": {
        "id": "tYm9stiN4J9Z"
      }
    },
    {
      "cell_type": "code",
      "source": [
        "v = 10\n",
        "v<<2\n",
        "\n",
        "y = 2\n",
        "\n",
        "y>>1"
      ],
      "metadata": {
        "colab": {
          "base_uri": "https://localhost:8080/"
        },
        "id": "4Y_2lBa54M8R",
        "outputId": "c7d63cf4-4cb5-4e68-d5ad-ebabf7667cfa"
      },
      "execution_count": 26,
      "outputs": [
        {
          "output_type": "execute_result",
          "data": {
            "text/plain": [
              "1"
            ]
          },
          "metadata": {},
          "execution_count": 26
        }
      ]
    }
  ]
}