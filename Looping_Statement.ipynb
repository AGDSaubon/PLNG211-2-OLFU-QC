{
  "nbformat": 4,
  "nbformat_minor": 0,
  "metadata": {
    "colab": {
      "provenance": [],
      "authorship_tag": "ABX9TyO/suaNayacneKLyNJsePWp",
      "include_colab_link": true
    },
    "kernelspec": {
      "name": "python3",
      "display_name": "Python 3"
    },
    "language_info": {
      "name": "python"
    }
  },
  "cells": [
    {
      "cell_type": "markdown",
      "metadata": {
        "id": "view-in-github",
        "colab_type": "text"
      },
      "source": [
        "<a href=\"https://colab.research.google.com/github/AGDSaubon/PLNG211-2-OLFU-QC/blob/main/Looping_Statement.ipynb\" target=\"_parent\"><img src=\"https://colab.research.google.com/assets/colab-badge.svg\" alt=\"Open In Colab\"/></a>"
      ]
    },
    {
      "cell_type": "code",
      "execution_count": 1,
      "metadata": {
        "colab": {
          "base_uri": "https://localhost:8080/"
        },
        "id": "2pFT42UnhHW_",
        "outputId": "98463f62-695c-4418-8ed7-ac3416c45ebf"
      },
      "outputs": [
        {
          "output_type": "stream",
          "name": "stdout",
          "text": [
            "they are both equal\n"
          ]
        }
      ],
      "source": [
        "#If Statement\n",
        "\n",
        "a = 5\n",
        "b= 5\n",
        "\n",
        "if b>a:\n",
        "  print(\"b is greater than a\")\n",
        "\n",
        "#Elif Statement\n",
        "\n",
        "elif b<a:\n",
        "  print(\"b is less than a\")\n",
        "\n",
        "#Else Statament\n",
        "\n",
        "else:\n",
        "  print(\"they are both equal\")"
      ]
    },
    {
      "cell_type": "code",
      "source": [
        "#Short hand if\n",
        "a = 5\n",
        "b= 6\n",
        "\n",
        "if a>b: print(\"a is greater than b\")\n",
        "\n",
        "#Short hand if.. else\n",
        "\n",
        "print(\"a is greater than b\") if a>b else print(\"a is less than b\")"
      ],
      "metadata": {
        "colab": {
          "base_uri": "https://localhost:8080/"
        },
        "id": "2ItGUgqhhJV1",
        "outputId": "d11bfb43-e855-4b32-bdde-d79b42383937"
      },
      "execution_count": 2,
      "outputs": [
        {
          "output_type": "stream",
          "name": "stdout",
          "text": [
            "a is less than b\n"
          ]
        }
      ]
    },
    {
      "cell_type": "code",
      "source": [
        "#And and or statement\n",
        "a = 5\n",
        "b= 6\n",
        "c= 7\n",
        "\n",
        "if c>b and b>a:\n",
        "  print(\"both operands are TRUE\")\n",
        "\n",
        "if c>b or a>b:\n",
        "  print(\"at least one of the operands is TRUE\")"
      ],
      "metadata": {
        "id": "MIn-qknahLOT"
      },
      "execution_count": null,
      "outputs": []
    },
    {
      "cell_type": "code",
      "source": [
        "x = 9\n",
        "if x>10:\n",
        "  print(\"Above ten\")\n",
        "  if x>20:\n",
        "    print(\"And also above 20\")\n",
        "    if x>30:\n",
        "      print(\"And also above 30\")\n",
        "      if x>40:\n",
        "        print(\"And also above 40\")\n",
        "        if x>50:\n",
        "          print(\"And also above 50\")\n",
        "        else:\n",
        "          print(\"But not above 50\")\n",
        "      else:\n",
        "        print(\"But not above 40\")\n",
        "    else:\n",
        "      print(\"But not above 30\") \n",
        "  else:\n",
        "    print(\"But not above 20\")\n",
        "else:\n",
        "  print(\"But not above 10\")"
      ],
      "metadata": {
        "colab": {
          "base_uri": "https://localhost:8080/"
        },
        "id": "t7LVq-g0hNQ6",
        "outputId": "a0fe61c1-a5aa-471f-c90e-09447b0a8539"
      },
      "execution_count": 3,
      "outputs": [
        {
          "output_type": "stream",
          "name": "stdout",
          "text": [
            "But not above 10\n"
          ]
        }
      ]
    },
    {
      "cell_type": "code",
      "source": [
        "#Example 1. Write a program that determines if the input age is qualified to vote or not. \n",
        "#The qualifying age is 18 years old and above.\n",
        "\n",
        "age = 15\n",
        "if age >= 18:\n",
        "  print(\"You are qualified to vote\")\n",
        "else:\n",
        "  print(\"You are not qualified to vote\")"
      ],
      "metadata": {
        "colab": {
          "base_uri": "https://localhost:8080/"
        },
        "id": "mqJkL2aThPCS",
        "outputId": "8d8d5c53-e2f1-43dd-ed0f-1831451efe7f"
      },
      "execution_count": 4,
      "outputs": [
        {
          "output_type": "stream",
          "name": "stdout",
          "text": [
            "You are not qualified to vote\n"
          ]
        }
      ]
    },
    {
      "cell_type": "code",
      "source": [
        "print('Enter your age:')\n",
        "age = int(input())\n",
        "\n",
        "if age >= 18:\n",
        "  print(\"You are qualified to vote\")\n",
        "else:\n",
        "  print(\"You are not qualified to vote\")"
      ],
      "metadata": {
        "colab": {
          "base_uri": "https://localhost:8080/"
        },
        "id": "3WX8rvZchRPA",
        "outputId": "382ac13a-dbee-4f5a-9021-f403d799b1a1"
      },
      "execution_count": 5,
      "outputs": [
        {
          "output_type": "stream",
          "name": "stdout",
          "text": [
            "Enter your age:\n",
            "18\n",
            "You are qualified to vote\n"
          ]
        }
      ]
    },
    {
      "cell_type": "code",
      "source": [
        "#For loop\n",
        "\n",
        "week = [\"Sunday\",'Monday', 'Tuesday', 'Wednesday', \"Thursday\",\"Friday\", \"Satuday\"]\n",
        "\n",
        "for x in week:\n",
        "  print(x)\n",
        "  "
      ],
      "metadata": {
        "colab": {
          "base_uri": "https://localhost:8080/"
        },
        "id": "a1zEvVZhhVkh",
        "outputId": "059b731f-a856-4587-b90b-2358f79e7090"
      },
      "execution_count": 6,
      "outputs": [
        {
          "output_type": "stream",
          "name": "stdout",
          "text": [
            "Sunday\n",
            "Monday\n",
            "Tuesday\n",
            "Wednesday\n",
            "Thursday\n",
            "Friday\n",
            "Satuday\n"
          ]
        }
      ]
    },
    {
      "cell_type": "code",
      "source": [
        "week = [\"Sunday\",'Monday', 'Tuesday', 'Wednesday', \"Thursday\",\"Friday\", \"Satuday\"]\n",
        "for x in week:\n",
        "  print(x)\n",
        "  if x == \"Thursday\":\n",
        "      break"
      ],
      "metadata": {
        "colab": {
          "base_uri": "https://localhost:8080/"
        },
        "id": "Rd-qQehxha3E",
        "outputId": "3087cb4b-7655-46ad-9e3e-4c887c0524f5"
      },
      "execution_count": 7,
      "outputs": [
        {
          "output_type": "stream",
          "name": "stdout",
          "text": [
            "Sunday\n",
            "Monday\n",
            "Tuesday\n",
            "Wednesday\n",
            "Thursday\n"
          ]
        }
      ]
    },
    {
      "cell_type": "code",
      "source": [
        "#Using for loop to display only THURSDAY\n",
        "week = [\"Sunday\",'Monday', 'Tuesday', 'Wednesday', \"Thursday\",\"Friday\", \"Satuday\"]\n",
        "for x in week:\n",
        "  if x == \"Thursday\":\n",
        "    print(x)\n",
        "    break"
      ],
      "metadata": {
        "colab": {
          "base_uri": "https://localhost:8080/"
        },
        "id": "WbnAXnG5hdb0",
        "outputId": "f49d9361-d050-40ff-8c5d-a0d1796fffc9"
      },
      "execution_count": 8,
      "outputs": [
        {
          "output_type": "stream",
          "name": "stdout",
          "text": [
            "Thursday\n"
          ]
        }
      ]
    },
    {
      "cell_type": "code",
      "source": [
        "#looping through String\n",
        "\n",
        "for x in \"Philippines\":\n",
        "  print(x)"
      ],
      "metadata": {
        "colab": {
          "base_uri": "https://localhost:8080/"
        },
        "id": "asTJQ5QQhfqs",
        "outputId": "431e1c99-9bb1-4527-b649-51e6e26588b0"
      },
      "execution_count": 9,
      "outputs": [
        {
          "output_type": "stream",
          "name": "stdout",
          "text": [
            "P\n",
            "h\n",
            "i\n",
            "l\n",
            "i\n",
            "p\n",
            "p\n",
            "i\n",
            "n\n",
            "e\n",
            "s\n"
          ]
        }
      ]
    },
    {
      "cell_type": "code",
      "source": [
        "#The range () function\n",
        "\n",
        "#for x in range (6):\n",
        "  #print(x)\n",
        "for x in range (3,7,3):\n",
        "  print(x)"
      ],
      "metadata": {
        "colab": {
          "base_uri": "https://localhost:8080/"
        },
        "id": "PJg0Hy5LhhW9",
        "outputId": "cbc24508-a5e2-41a3-c63c-2f42ba1e421f"
      },
      "execution_count": 10,
      "outputs": [
        {
          "output_type": "stream",
          "name": "stdout",
          "text": [
            "3\n",
            "6\n"
          ]
        }
      ]
    },
    {
      "cell_type": "code",
      "source": [
        "#Nested loops\n",
        "adjective = [\"red\", \"big\", \"tasty\"]\n",
        "fruits = [\"apple\", \"banana\", \"cherry\"]\n",
        "\n",
        "for x in adjective:\n",
        "  for y in fruits:\n",
        "    print(x, y)"
      ],
      "metadata": {
        "colab": {
          "base_uri": "https://localhost:8080/"
        },
        "id": "nSUNqoWqhjEd",
        "outputId": "ac9aefc0-cbc5-4aea-920f-8d31cf57e104"
      },
      "execution_count": 11,
      "outputs": [
        {
          "output_type": "stream",
          "name": "stdout",
          "text": [
            "red apple\n",
            "red banana\n",
            "red cherry\n",
            "big apple\n",
            "big banana\n",
            "big cherry\n",
            "tasty apple\n",
            "tasty banana\n",
            "tasty cherry\n"
          ]
        }
      ]
    },
    {
      "cell_type": "code",
      "source": [
        "#While loop\n",
        "\n",
        "i = 1\n",
        "while i <= 6:\n",
        "  print(i)\n",
        "  i+=1"
      ],
      "metadata": {
        "colab": {
          "base_uri": "https://localhost:8080/"
        },
        "id": "FypjKbG4hlPj",
        "outputId": "8e0be2b7-82eb-47c0-f3df-e02422642395"
      },
      "execution_count": 12,
      "outputs": [
        {
          "output_type": "stream",
          "name": "stdout",
          "text": [
            "1\n",
            "2\n",
            "3\n",
            "4\n",
            "5\n",
            "6\n"
          ]
        }
      ]
    },
    {
      "cell_type": "code",
      "source": [
        "#while loop with break\n",
        "i = 1\n",
        "while i < 6:\n",
        "  print(i)\n",
        "  if i == 3:\n",
        "    break\n",
        "  i += 1\n",
        "  "
      ],
      "metadata": {
        "colab": {
          "base_uri": "https://localhost:8080/"
        },
        "id": "0Tg1Uoeshm9-",
        "outputId": "e8e2783f-b98d-4b6e-c511-4ecc343b1aad"
      },
      "execution_count": 13,
      "outputs": [
        {
          "output_type": "stream",
          "name": "stdout",
          "text": [
            "1\n",
            "2\n",
            "3\n"
          ]
        }
      ]
    },
    {
      "cell_type": "code",
      "source": [
        "#while loop with break Application 1. Using while loop, display only 3\n",
        "i = 1\n",
        "while i<6:\n",
        "  if i ==3:\n",
        "    print(i)\n",
        "    break\n",
        "  i+=1"
      ],
      "metadata": {
        "colab": {
          "base_uri": "https://localhost:8080/"
        },
        "id": "cb4myj7EhpB2",
        "outputId": "061c0f9b-65ee-4cc1-880d-0e922d88fb70"
      },
      "execution_count": 14,
      "outputs": [
        {
          "output_type": "stream",
          "name": "stdout",
          "text": [
            "3\n"
          ]
        }
      ]
    },
    {
      "cell_type": "code",
      "source": [
        "i = 0\n",
        "while i < 6:\n",
        "  i += 1\n",
        "  if i == 3:\n",
        "    continue\n",
        "  print(i)"
      ],
      "metadata": {
        "colab": {
          "base_uri": "https://localhost:8080/"
        },
        "id": "NB3CyOPZhrO0",
        "outputId": "7dc246fe-0a3a-4fc4-a291-e88369dfa8b9"
      },
      "execution_count": 15,
      "outputs": [
        {
          "output_type": "stream",
          "name": "stdout",
          "text": [
            "1\n",
            "2\n",
            "4\n",
            "5\n",
            "6\n"
          ]
        }
      ]
    },
    {
      "cell_type": "code",
      "source": [
        "#Else statement\n",
        "i = 1\n",
        "while i<6:\n",
        "  print(i)\n",
        "  i+=1\n",
        "else:\n",
        "  print(\"i is no longer less than 6\")"
      ],
      "metadata": {
        "colab": {
          "base_uri": "https://localhost:8080/"
        },
        "id": "KV7DGHCxhs_t",
        "outputId": "ddb52ca8-3bdc-4b8a-be64-1c29ff1fe808"
      },
      "execution_count": 16,
      "outputs": [
        {
          "output_type": "stream",
          "name": "stdout",
          "text": [
            "1\n",
            "2\n",
            "3\n",
            "4\n",
            "5\n",
            "i is no longer less than 6\n"
          ]
        }
      ]
    }
  ]
}