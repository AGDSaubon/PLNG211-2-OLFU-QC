{
  "nbformat": 4,
  "nbformat_minor": 0,
  "metadata": {
    "colab": {
      "provenance": [],
      "authorship_tag": "ABX9TyO3jjtgMDBC7KVMynv1QalX",
      "include_colab_link": true
    },
    "kernelspec": {
      "name": "python3",
      "display_name": "Python 3"
    },
    "language_info": {
      "name": "python"
    }
  },
  "cells": [
    {
      "cell_type": "markdown",
      "metadata": {
        "id": "view-in-github",
        "colab_type": "text"
      },
      "source": [
        "<a href=\"https://colab.research.google.com/github/AGDSaubon/PLNG211-2-OLFU-QC/blob/main/SAUBON%2C_ARIESE_Exercise1.ipynb\" target=\"_parent\"><img src=\"https://colab.research.google.com/assets/colab-badge.svg\" alt=\"Open In Colab\"/></a>"
      ]
    },
    {
      "cell_type": "code",
      "execution_count": 11,
      "metadata": {
        "colab": {
          "base_uri": "https://localhost:8080/"
        },
        "id": "P533ps5WbiUA",
        "outputId": "5015a3c0-985d-4d69-b999-70bac54756e2"
      },
      "outputs": [
        {
          "output_type": "stream",
          "name": "stdout",
          "text": [
            "49\n",
            "87\n",
            "75\n",
            "\n",
            "Total sum of odd numbers is:  211\n"
          ]
        }
      ],
      "source": [
        "scores = [26, 49, 98, 87, 62, 75]\n",
        "odd_sum = 0\n",
        "for x in scores:\n",
        "  if not x%2==0:\n",
        "    odd_sum +=x\n",
        "    print(x)\n",
        "print(\"\\nTotal sum of odd numbers is: \", odd_sum)"
      ]
    }
  ]
}