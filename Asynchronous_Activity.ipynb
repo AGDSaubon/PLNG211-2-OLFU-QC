{
  "nbformat": 4,
  "nbformat_minor": 0,
  "metadata": {
    "colab": {
      "provenance": [],
      "authorship_tag": "ABX9TyMiilnY5AnXes3evQeATtHm",
      "include_colab_link": true
    },
    "kernelspec": {
      "name": "python3",
      "display_name": "Python 3"
    },
    "language_info": {
      "name": "python"
    }
  },
  "cells": [
    {
      "cell_type": "markdown",
      "metadata": {
        "id": "view-in-github",
        "colab_type": "text"
      },
      "source": [
        "<a href=\"https://colab.research.google.com/github/AGDSaubon/PLNG211-2-OLFU-QC/blob/main/Asynchronous_Activity.ipynb\" target=\"_parent\"><img src=\"https://colab.research.google.com/assets/colab-badge.svg\" alt=\"Open In Colab\"/></a>"
      ]
    },
    {
      "cell_type": "code",
      "execution_count": 1,
      "metadata": {
        "colab": {
          "base_uri": "https://localhost:8080/"
        },
        "id": "2qSeh6NYqBQ4",
        "outputId": "d743c3f9-543d-4c39-c115-00df27349866"
      },
      "outputs": [
        {
          "output_type": "execute_result",
          "data": {
            "text/plain": [
              "5.0"
            ]
          },
          "metadata": {},
          "execution_count": 1
        }
      ],
      "source": [
        "3+5-6*2/4\n"
      ]
    },
    {
      "cell_type": "code",
      "source": [
        "for var in range(5):\n",
        "  print(var)\n",
        "  "
      ],
      "metadata": {
        "colab": {
          "base_uri": "https://localhost:8080/"
        },
        "id": "vE38HFhtqGFv",
        "outputId": "1b18b704-8b88-4fd1-8293-860ea6bcaa32"
      },
      "execution_count": 2,
      "outputs": [
        {
          "output_type": "stream",
          "name": "stdout",
          "text": [
            "0\n",
            "1\n",
            "2\n",
            "3\n",
            "4\n"
          ]
        }
      ]
    },
    {
      "cell_type": "code",
      "source": [
        "for var in range(0,6+1,2):\n",
        "  print(var)"
      ],
      "metadata": {
        "colab": {
          "base_uri": "https://localhost:8080/"
        },
        "id": "zYRNGw2AqIYo",
        "outputId": "47033aad-f9ad-4773-a326-048709f73da3"
      },
      "execution_count": 3,
      "outputs": [
        {
          "output_type": "stream",
          "name": "stdout",
          "text": [
            "0\n",
            "2\n",
            "4\n",
            "6\n"
          ]
        }
      ]
    },
    {
      "cell_type": "code",
      "source": [
        "varlist= [1,2,3,4,5,6,7,8,9,10]\n",
        "print(varlist[2:9:2])    "
      ],
      "metadata": {
        "id": "5EAZQVMGqLAg",
        "outputId": "578bb378-7f82-4498-a52b-0ad2dbddae8d",
        "colab": {
          "base_uri": "https://localhost:8080/"
        }
      },
      "execution_count": 4,
      "outputs": [
        {
          "output_type": "stream",
          "name": "stdout",
          "text": [
            "[3, 5, 7, 9]\n"
          ]
        }
      ]
    },
    {
      "cell_type": "code",
      "source": [
        "var1, var2, var3 = \"ABC\",'DEF',\"GHI\"\n",
        "print(var1)\n",
        "print(var2)\n",
        "print(var3)\n",
        "\n",
        "a = b = c = 'abc'\n",
        "print(a)\n",
        "print(b)\n",
        "print(c)"
      ],
      "metadata": {
        "id": "XduULRDUqNj5",
        "outputId": "ba93d68f-1de8-4f09-e62b-c4c3afa28e27",
        "colab": {
          "base_uri": "https://localhost:8080/"
        }
      },
      "execution_count": 5,
      "outputs": [
        {
          "output_type": "stream",
          "name": "stdout",
          "text": [
            "ABC\n",
            "DEF\n",
            "GHI\n",
            "abc\n",
            "abc\n",
            "abc\n"
          ]
        }
      ]
    }
  ]
}